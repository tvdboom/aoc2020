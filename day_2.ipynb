{
 "cells": [
  {
   "cell_type": "code",
   "execution_count": 23,
   "metadata": {},
   "outputs": [],
   "source": [
    "import re"
   ]
  },
  {
   "cell_type": "code",
   "execution_count": null,
   "metadata": {},
   "outputs": [],
   "source": [
    "with open(\"input.txt\", \"r\") as f:\n",
    "    data = f.read().split(\"\\n\")"
   ]
  },
  {
   "cell_type": "code",
   "execution_count": 32,
   "metadata": {
    "scrolled": false
   },
   "outputs": [
    {
     "name": "stdout",
     "output_type": "stream",
     "text": [
      "398\n"
     ]
    }
   ],
   "source": [
    "correct = 0\n",
    "for pw in data:\n",
    "    n1 = int(re.search(\"[0-9]*\", pw).group())\n",
    "    n2 = int(re.search(\"-[0-9]*\", pw).group()[1:])\n",
    "    letter = re.search(\"[a-z]\", pw).group()\n",
    "    word = re.search(\": [a-z]*\", pw).group()[2:]\n",
    "    if n1 <= word.count(letter) <= n2:\n",
    "        correct +=1\n",
    "\n",
    "print(correct)"
   ]
  },
  {
   "cell_type": "code",
   "execution_count": 37,
   "metadata": {
    "scrolled": false
   },
   "outputs": [
    {
     "name": "stdout",
     "output_type": "stream",
     "text": [
      "562\n"
     ]
    }
   ],
   "source": [
    "correct = 0\n",
    "for pw in data:\n",
    "    n1 = int(re.search(\"[0-9]*\", pw).group())\n",
    "    n2 = int(re.search(\"-[0-9]*\", pw).group()[1:])\n",
    "    letter = re.search(\"[a-z]\", pw).group()\n",
    "    word = re.search(\": [a-z]*\", pw).group()[2:]\n",
    "    if (word[n1-1] == letter and word[n2-1] != letter) or (word[n1-1] != letter and word[n2-1] == letter):\n",
    "        correct +=1\n",
    "\n",
    "print(correct)"
   ]
  }
 ],
 "metadata": {
  "kernelspec": {
   "display_name": "Python 3",
   "language": "python",
   "name": "python3"
  },
  "language_info": {
   "codemirror_mode": {
    "name": "ipython",
    "version": 3
   },
   "file_extension": ".py",
   "mimetype": "text/x-python",
   "name": "python",
   "nbconvert_exporter": "python",
   "pygments_lexer": "ipython3",
   "version": "3.8.5"
  }
 },
 "nbformat": 4,
 "nbformat_minor": 4
}
