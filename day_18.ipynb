{
 "cells": [
  {
   "cell_type": "code",
   "execution_count": 77,
   "metadata": {},
   "outputs": [],
   "source": [
    "with open(\"input18.txt\", \"r\") as f:\n",
    "    data = f.read().split(\"\\n\")"
   ]
  },
  {
   "cell_type": "code",
   "execution_count": 78,
   "metadata": {},
   "outputs": [],
   "source": [
    "class number(object):\n",
    "    def __init__(self, n):\n",
    "        self.n = int(n)\n",
    "    def __add__(self, x):\n",
    "        return number(self.n + x.n)\n",
    "    def __sub__(self, x):\n",
    "        return number(self.n * x.n)"
   ]
  },
  {
   "cell_type": "code",
   "execution_count": 79,
   "metadata": {},
   "outputs": [
    {
     "name": "stdout",
     "output_type": "stream",
     "text": [
      "4491283311856\n"
     ]
    }
   ],
   "source": [
    "import re\n",
    "\n",
    "total = 0\n",
    "for row in data:\n",
    "    command = row.replace(\"*\", \"-\")  # minus is as imprortant as +\n",
    "    command = re.sub(r\"([0-9]+)\", r\"number(\\1)\", command)\n",
    "    total += eval(command).n\n",
    "\n",
    "print(total)"
   ]
  },
  {
   "cell_type": "code",
   "execution_count": 80,
   "metadata": {},
   "outputs": [],
   "source": [
    "class number2(object):\n",
    "    def __init__(self, n):\n",
    "        self.n = int(n)\n",
    "    def __add__(self, x):\n",
    "        return number2(self.n + x.n)\n",
    "    def __or__(self, x):\n",
    "        return number2(self.n * x.n)"
   ]
  },
  {
   "cell_type": "code",
   "execution_count": 81,
   "metadata": {},
   "outputs": [
    {
     "name": "stdout",
     "output_type": "stream",
     "text": [
      "68852578641904\n"
     ]
    }
   ],
   "source": [
    "total = 0\n",
    "for row in data:\n",
    "    command = row.replace(\"*\", \"|\")  # or is less imprortant than +\n",
    "    command = re.sub(r\"([0-9]+)\", r\"number2(\\1)\", command)\n",
    "    total += eval(command).n\n",
    "\n",
    "print(total)"
   ]
  }
 ],
 "metadata": {
  "kernelspec": {
   "display_name": "Python 3",
   "language": "python",
   "name": "python3"
  },
  "language_info": {
   "codemirror_mode": {
    "name": "ipython",
    "version": 3
   },
   "file_extension": ".py",
   "mimetype": "text/x-python",
   "name": "python",
   "nbconvert_exporter": "python",
   "pygments_lexer": "ipython3",
   "version": "3.8.3"
  }
 },
 "nbformat": 4,
 "nbformat_minor": 4
}
