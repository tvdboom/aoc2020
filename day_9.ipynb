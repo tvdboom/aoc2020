{
 "cells": [
  {
   "cell_type": "code",
   "execution_count": 1,
   "metadata": {},
   "outputs": [],
   "source": [
    "with open(\"input9.txt\", \"r\") as f:\n",
    "    data = f.read().split(\"\\n\")"
   ]
  },
  {
   "cell_type": "code",
   "execution_count": 7,
   "metadata": {},
   "outputs": [],
   "source": [
    "data = [int(d) for d in data]"
   ]
  },
  {
   "cell_type": "code",
   "execution_count": 8,
   "metadata": {},
   "outputs": [],
   "source": [
    "def check_sum(lst, number):\n",
    "    for i in lst:\n",
    "        for j in lst:\n",
    "            if i == j:\n",
    "                continue\n",
    "            if i + j == number:\n",
    "                return True\n",
    "\n",
    "    return False"
   ]
  },
  {
   "cell_type": "code",
   "execution_count": 9,
   "metadata": {
    "scrolled": false
   },
   "outputs": [
    {
     "name": "stdout",
     "output_type": "stream",
     "text": [
      "50047984\n"
     ]
    }
   ],
   "source": [
    "for i, n in enumerate(data[25:]):\n",
    "    if not check_sum(data[i:i+25], n):\n",
    "        print(n)\n",
    "        break"
   ]
  },
  {
   "cell_type": "code",
   "execution_count": 12,
   "metadata": {},
   "outputs": [],
   "source": [
    "number = 50047984"
   ]
  },
  {
   "cell_type": "code",
   "execution_count": 33,
   "metadata": {},
   "outputs": [
    {
     "name": "stdout",
     "output_type": "stream",
     "text": [
      "5407707\n",
      "100095968\n"
     ]
    }
   ],
   "source": [
    "check_sum = lambda lst: True if sum(lst) == number else False\n",
    "\n",
    "lst = []\n",
    "for n in data:\n",
    "    lst.append(n)\n",
    "    if check_sum(lst):\n",
    "        print(sum(min(lst) + max(lst)))\n",
    "        break\n",
    "    elif sum(lst) > number:\n",
    "        while sum(lst) > number and len(lst) > 1:\n",
    "            lst = lst[1:]\n",
    "            if check_sum(lst):\n",
    "                print(min(lst) + max(lst))\n",
    "                break"
   ]
  }
 ],
 "metadata": {
  "kernelspec": {
   "display_name": "Python 3",
   "language": "python",
   "name": "python3"
  },
  "language_info": {
   "codemirror_mode": {
    "name": "ipython",
    "version": 3
   },
   "file_extension": ".py",
   "mimetype": "text/x-python",
   "name": "python",
   "nbconvert_exporter": "python",
   "pygments_lexer": "ipython3",
   "version": "3.8.3"
  }
 },
 "nbformat": 4,
 "nbformat_minor": 4
}
