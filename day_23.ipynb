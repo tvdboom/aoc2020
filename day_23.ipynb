{
 "cells": [
  {
   "cell_type": "code",
   "execution_count": 1,
   "metadata": {},
   "outputs": [],
   "source": [
    "data = [int(i) for i in \"974618352\"]"
   ]
  },
  {
   "cell_type": "code",
   "execution_count": 2,
   "metadata": {},
   "outputs": [],
   "source": [
    "def get_replace(n):\n",
    "    while n != 0:\n",
    "        if n in numbers:\n",
    "            return n\n",
    "        else:\n",
    "            n -= 1\n",
    "\n",
    "    return max(numbers)\n",
    "\n",
    "def reorder():\n",
    "    new_numbers = [0] * len(numbers)\n",
    "    for i in range(len(numbers)):\n",
    "        new_numbers[(current + i) % len(numbers)] = numbers[(numbers.index(curr_n) + i) % len(numbers)]\n",
    "\n",
    "    return new_numbers"
   ]
  },
  {
   "cell_type": "code",
   "execution_count": 3,
   "metadata": {},
   "outputs": [
    {
     "name": "stdout",
     "output_type": "stream",
     "text": [
      "75893264\n"
     ]
    }
   ],
   "source": [
    "numbers = data.copy()\n",
    "current = 0\n",
    "for _ in range(100):\n",
    "    curr_n = numbers[current]\n",
    "    pick = [numbers[(current + i) % len(numbers)] for i in range(1, 4)]\n",
    "    numbers = [n for n in numbers if n not in pick]\n",
    "\n",
    "    replace = get_replace(curr_n - 1)\n",
    "    for i, p in enumerate(pick):\n",
    "        numbers.insert(numbers.index(replace) + i + 1, p)\n",
    "\n",
    "    numbers = reorder()\n",
    "    current = (current + 1) % len(numbers)\n",
    "\n",
    "total = \"\"\n",
    "pos_1 = numbers.index(1)\n",
    "for i in range(1, 9):\n",
    "    total += str(numbers[(pos_1 + i) % len(numbers)])\n",
    "\n",
    "print(total)"
   ]
  }
 ],
 "metadata": {
  "kernelspec": {
   "display_name": "Python 3",
   "language": "python",
   "name": "python3"
  },
  "language_info": {
   "codemirror_mode": {
    "name": "ipython",
    "version": 3
   },
   "file_extension": ".py",
   "mimetype": "text/x-python",
   "name": "python",
   "nbconvert_exporter": "python",
   "pygments_lexer": "ipython3",
   "version": "3.8.3"
  }
 },
 "nbformat": 4,
 "nbformat_minor": 4
}
