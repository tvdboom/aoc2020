{
 "cells": [
  {
   "cell_type": "code",
   "execution_count": 29,
   "metadata": {},
   "outputs": [],
   "source": [
    "with open(\"input16.txt\", \"r\") as f:\n",
    "    data = f.read().split(\"\\n\")"
   ]
  },
  {
   "cell_type": "code",
   "execution_count": 30,
   "metadata": {},
   "outputs": [],
   "source": [
    "types = data[:20]\n",
    "your = data[22]\n",
    "nearby = data[25:]"
   ]
  },
  {
   "cell_type": "code",
   "execution_count": 31,
   "metadata": {},
   "outputs": [
    {
     "data": {
      "text/plain": [
       "{'departure location': [26, 724, 743, 964],\n",
       " 'departure station': [33, 845, 864, 954],\n",
       " 'departure platform': [26, 472, 482, 967],\n",
       " 'departure track': [27, 140, 158, 956],\n",
       " 'departure date': [25, 884, 894, 952],\n",
       " 'departure time': [37, 924, 941, 949],\n",
       " 'arrival location': [48, 311, 335, 972],\n",
       " 'arrival station': [39, 703, 724, 950],\n",
       " 'arrival platform': [40, 108, 114, 950],\n",
       " 'arrival track': [30, 101, 108, 967],\n",
       " 'class': [33, 386, 399, 949],\n",
       " 'duration': [44, 444, 452, 956],\n",
       " 'price': [27, 220, 234, 974],\n",
       " 'route': [42, 774, 790, 959],\n",
       " 'row': [48, 900, 918, 956],\n",
       " 'seat': [42, 165, 178, 949],\n",
       " 'train': [45, 831, 842, 965],\n",
       " 'type': [49, 522, 548, 974],\n",
       " 'wagon': [32, 565, 588, 964],\n",
       " 'zone': [27, 608, 617, 953]}"
      ]
     },
     "execution_count": 31,
     "metadata": {},
     "output_type": "execute_result"
    }
   ],
   "source": [
    "dct = {}\n",
    "for row in types:\n",
    "    key, value = row.split(\": \")\n",
    "    n1, n2 = value.split(\" or \")\n",
    "    n11, n12 = n1.split(\"-\")\n",
    "    n21, n22 = n2.split(\"-\")\n",
    "    dct[key] = [int(n11), int(n12), int(n21), int(n22)]\n",
    "\n",
    "dct"
   ]
  },
  {
   "cell_type": "code",
   "execution_count": 32,
   "metadata": {},
   "outputs": [],
   "source": [
    "def check_valid(i):\n",
    "    if all([not (v[0] <= i <= v[1] or v[2] <= i <= v[3]) for v in dct.values()]):\n",
    "        return False\n",
    "    else:\n",
    "        return True"
   ]
  },
  {
   "cell_type": "code",
   "execution_count": 33,
   "metadata": {},
   "outputs": [
    {
     "name": "stdout",
     "output_type": "stream",
     "text": [
      "18142\n"
     ]
    }
   ],
   "source": [
    "invalid = []\n",
    "for row in nearby:\n",
    "    for i in row.split(\",\"):\n",
    "        i = int(i)\n",
    "        if not check_valid(i):\n",
    "            invalid.append(i)\n",
    "            break\n",
    "\n",
    "print(sum(invalid))"
   ]
  },
  {
   "cell_type": "code",
   "execution_count": 34,
   "metadata": {},
   "outputs": [
    {
     "name": "stdout",
     "output_type": "stream",
     "text": [
      "236 190\n"
     ]
    }
   ],
   "source": [
    "# Remove invalid rows\n",
    "to_drop = []\n",
    "for n, row in enumerate(nearby):\n",
    "    for i in row.split(\",\"):\n",
    "        i = int(i)\n",
    "        if not check_valid(i):\n",
    "            to_drop.append(n)\n",
    "            break\n",
    "\n",
    "nearby_2 = [nearby[i] for i in range(len(nearby)) if i not in to_drop]\n",
    "print(len(nearby), len(nearby_2))"
   ]
  },
  {
   "cell_type": "code",
   "execution_count": 35,
   "metadata": {},
   "outputs": [],
   "source": [
    "def check_valid_with_col(i, col):\n",
    "    if not (dct[col][0] <= i <= dct[col][1] or dct[col][2] <= i <= dct[col][3]):\n",
    "        return False\n",
    "    else:\n",
    "        return True"
   ]
  },
  {
   "cell_type": "code",
   "execution_count": 36,
   "metadata": {},
   "outputs": [],
   "source": [
    "def check_all(col, mapping):\n",
    "    lst = []\n",
    "    for i in range(len(dct)):\n",
    "        if i in mapping.values():\n",
    "            lst.append(False)\n",
    "        else:\n",
    "            all_values = [int(row.split(\",\")[i]) for row in nearby_2 + [your]]\n",
    "            lst.append(all([check_valid_with_col(v, col) for v in all_values]))\n",
    "\n",
    "    if sum(lst) == 1:\n",
    "        return lst.index(True)\n",
    "    else:\n",
    "        return -1"
   ]
  },
  {
   "cell_type": "code",
   "execution_count": 37,
   "metadata": {},
   "outputs": [
    {
     "name": "stdout",
     "output_type": "stream",
     "text": [
      "1069784384303\n"
     ]
    }
   ],
   "source": [
    "mapping = {}\n",
    "while len(mapping) != len(dct):\n",
    "    for col in [c for c in dct if c not in mapping]:\n",
    "        n = check_all(col, mapping)\n",
    "        if n >= 0:\n",
    "            mapping[col] = n\n",
    "            break\n",
    "\n",
    "total = 1\n",
    "pos = your.split(\",\")\n",
    "for key, value in mapping.items():\n",
    "    if key.startswith(\"departure\"):\n",
    "        total *= int(pos[value])\n",
    "\n",
    "print(total)"
   ]
  }
 ],
 "metadata": {
  "kernelspec": {
   "display_name": "Python 3",
   "language": "python",
   "name": "python3"
  },
  "language_info": {
   "codemirror_mode": {
    "name": "ipython",
    "version": 3
   },
   "file_extension": ".py",
   "mimetype": "text/x-python",
   "name": "python",
   "nbconvert_exporter": "python",
   "pygments_lexer": "ipython3",
   "version": "3.8.3"
  }
 },
 "nbformat": 4,
 "nbformat_minor": 4
}
