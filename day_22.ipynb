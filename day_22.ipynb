{
 "cells": [
  {
   "cell_type": "code",
   "execution_count": 42,
   "metadata": {},
   "outputs": [],
   "source": [
    "with open(\"input22.txt\", \"r\") as f:\n",
    "    data = f.read().split(\"\\n\\n\")"
   ]
  },
  {
   "cell_type": "code",
   "execution_count": 43,
   "metadata": {},
   "outputs": [
    {
     "name": "stdout",
     "output_type": "stream",
     "text": [
      "deque([39, 15, 13, 23, 12, 49, 36, 44, 8, 21, 28, 37, 40, 42, 6, 47, 2, 38, 18, 31, 20, 10, 16, 43, 5]) deque([29, 26, 19, 35, 34, 4, 41, 11, 3, 50, 33, 22, 48, 7, 17, 32, 27, 45, 46, 9, 25, 30, 1, 24, 14])\n"
     ]
    }
   ],
   "source": [
    "from collections import deque\n",
    "\n",
    "p1 = deque([int(card) for card in data[0].split(\"\\n\")[1:]])\n",
    "p2 = deque([int(card) for card in data[1].split(\"\\n\")[1:]])\n",
    "\n",
    "print(p1, p2)"
   ]
  },
  {
   "cell_type": "code",
   "execution_count": 44,
   "metadata": {},
   "outputs": [
    {
     "name": "stdout",
     "output_type": "stream",
     "text": [
      "35202\n"
     ]
    }
   ],
   "source": [
    "deck1 = p1.copy()\n",
    "deck2 = p2.copy()\n",
    "\n",
    "while deck1 and deck2:\n",
    "    if deck1[0] > deck2[0]:\n",
    "        deck1.append(deck1.popleft())\n",
    "        deck1.append(deck2.popleft())\n",
    "    else:\n",
    "        deck2.append(deck2.popleft())\n",
    "        deck2.append(deck1.popleft())\n",
    "\n",
    "winner = deck1 if deck1 else deck2\n",
    "print(sum([i*winner[-i] for i in range(1, len(winner)+1)]))"
   ]
  },
  {
   "cell_type": "code",
   "execution_count": 45,
   "metadata": {},
   "outputs": [
    {
     "name": "stdout",
     "output_type": "stream",
     "text": [
      "32317\n"
     ]
    }
   ],
   "source": [
    "deck1 = p1.copy()\n",
    "deck2 = p2.copy()\n",
    "\n",
    "def play(deck1, deck2):\n",
    "    past_decks = []\n",
    "    while deck1 and deck2:\n",
    "        if (deck1, deck2) in past_decks:\n",
    "            return deck1, deque()  # Player 1 wins\n",
    "        else:\n",
    "            past_decks.append((deck1.copy(), deck2.copy()))\n",
    "\n",
    "        if len(deck1) - 1 >= deck1[0] and len(deck2) - 1 >= deck2[0]:\n",
    "            subdeck1 = deque(list(deck1)[1:deck1[0] + 1])\n",
    "            subdeck2 = deque(list(deck2)[1:deck2[0] + 1])\n",
    "            res_deck1, res_deck2 = play(subdeck1, subdeck2)\n",
    "\n",
    "            if res_deck1:\n",
    "                deck1.append(deck1.popleft())\n",
    "                deck1.append(deck2.popleft())\n",
    "            else:\n",
    "                deck2.append(deck2.popleft())\n",
    "                deck2.append(deck1.popleft())\n",
    "\n",
    "        elif deck1[0] > deck2[0]:\n",
    "            deck1.append(deck1.popleft())\n",
    "            deck1.append(deck2.popleft())\n",
    "        else:\n",
    "            deck2.append(deck2.popleft())\n",
    "            deck2.append(deck1.popleft())\n",
    "\n",
    "    return deck1, deck2\n",
    "\n",
    "deck1, deck2 = play(deck1, deck2)\n",
    "winner = deck1 if deck1 else deck2\n",
    "print(sum([i*winner[-i] for i in range(1, len(winner)+1)]))"
   ]
  }
 ],
 "metadata": {
  "kernelspec": {
   "display_name": "Python 3",
   "language": "python",
   "name": "python3"
  },
  "language_info": {
   "codemirror_mode": {
    "name": "ipython",
    "version": 3
   },
   "file_extension": ".py",
   "mimetype": "text/x-python",
   "name": "python",
   "nbconvert_exporter": "python",
   "pygments_lexer": "ipython3",
   "version": "3.8.3"
  }
 },
 "nbformat": 4,
 "nbformat_minor": 4
}
