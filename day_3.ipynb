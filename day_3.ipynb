{
 "cells": [
  {
   "cell_type": "code",
   "execution_count": 1,
   "metadata": {},
   "outputs": [],
   "source": [
    "with open(\"input3.txt\", \"r\") as f:\n",
    "    data = f.read().split(\"\\n\")"
   ]
  },
  {
   "cell_type": "code",
   "execution_count": 2,
   "metadata": {
    "scrolled": false
   },
   "outputs": [
    {
     "name": "stdout",
     "output_type": "stream",
     "text": [
      "195\n"
     ]
    }
   ],
   "source": [
    "correct = 0\n",
    "for i, row in enumerate(data):\n",
    "    if row[(3*i) % len(row)] == \"#\":\n",
    "        correct +=1\n",
    "\n",
    "print(correct)"
   ]
  },
  {
   "cell_type": "code",
   "execution_count": 12,
   "metadata": {
    "scrolled": false
   },
   "outputs": [
    {
     "name": "stdout",
     "output_type": "stream",
     "text": [
      "84\n",
      "195\n",
      "70\n",
      "70\n",
      "47\n",
      "3772314000\n"
     ]
    }
   ],
   "source": [
    "total = 1\n",
    "for step, down in zip((1, 3, 5, 7, 1), (1, 1, 1, 1, 2)):\n",
    "    correct = 0\n",
    "    for i, row in enumerate(range(0, len(data), down)):\n",
    "        if data[row][(step*i) % len(data[row])] == \"#\":\n",
    "            correct +=1\n",
    "\n",
    "    total *= correct\n",
    "    print(correct)\n",
    "\n",
    "print(total)"
   ]
  }
 ],
 "metadata": {
  "kernelspec": {
   "display_name": "Python 3",
   "language": "python",
   "name": "python3"
  },
  "language_info": {
   "codemirror_mode": {
    "name": "ipython",
    "version": 3
   },
   "file_extension": ".py",
   "mimetype": "text/x-python",
   "name": "python",
   "nbconvert_exporter": "python",
   "pygments_lexer": "ipython3",
   "version": "3.8.5"
  }
 },
 "nbformat": 4,
 "nbformat_minor": 4
}
