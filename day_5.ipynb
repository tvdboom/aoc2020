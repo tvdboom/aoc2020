{
 "cells": [
  {
   "cell_type": "code",
   "execution_count": 1,
   "metadata": {},
   "outputs": [],
   "source": [
    "with open(\"input5.txt\", \"r\") as f:\n",
    "    data = f.read().split(\"\\n\")"
   ]
  },
  {
   "cell_type": "code",
   "execution_count": 6,
   "metadata": {
    "scrolled": false
   },
   "outputs": [
    {
     "name": "stdout",
     "output_type": "stream",
     "text": [
      "930\n"
     ]
    }
   ],
   "source": [
    "codes = []\n",
    "for seat in data:\n",
    "    row = list(range(128))\n",
    "    col = list(range(8))\n",
    "\n",
    "    for s in seat:\n",
    "        if s == \"F\":\n",
    "            row = row[:len(row)//2]\n",
    "        elif s == \"B\":\n",
    "            row = row[len(row)//2:]\n",
    "        if s == \"L\":\n",
    "            col = col[:len(col)//2]\n",
    "        elif s == \"R\":\n",
    "            col = col[len(col)//2:]\n",
    "\n",
    "    codes.append(row[0]*8 + col[0])\n",
    "\n",
    "print(max(codes))"
   ]
  },
  {
   "cell_type": "code",
   "execution_count": 8,
   "metadata": {
    "scrolled": false
   },
   "outputs": [
    {
     "name": "stdout",
     "output_type": "stream",
     "text": [
      "515\n"
     ]
    }
   ],
   "source": [
    "for i in range(10000):\n",
    "    if i not in codes and i-1 in codes and i+1 in codes:\n",
    "        print(i)"
   ]
  }
 ],
 "metadata": {
  "kernelspec": {
   "display_name": "Python 3",
   "language": "python",
   "name": "python3"
  },
  "language_info": {
   "codemirror_mode": {
    "name": "ipython",
    "version": 3
   },
   "file_extension": ".py",
   "mimetype": "text/x-python",
   "name": "python",
   "nbconvert_exporter": "python",
   "pygments_lexer": "ipython3",
   "version": "3.8.5"
  }
 },
 "nbformat": 4,
 "nbformat_minor": 4
}
