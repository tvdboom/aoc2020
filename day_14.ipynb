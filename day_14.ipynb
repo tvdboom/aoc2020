{
 "cells": [
  {
   "cell_type": "code",
   "execution_count": 121,
   "metadata": {},
   "outputs": [],
   "source": [
    "with open(\"input14.txt\", \"r\") as f:\n",
    "    data = f.read().split(\"\\n\")"
   ]
  },
  {
   "cell_type": "code",
   "execution_count": 122,
   "metadata": {},
   "outputs": [
    {
     "name": "stdout",
     "output_type": "stream",
     "text": [
      "9628746976360\n"
     ]
    }
   ],
   "source": [
    "import re\n",
    "\n",
    "mem = {}\n",
    "for row in data:\n",
    "    if \"mask\" in row:\n",
    "        mask = row[7:]\n",
    "    else:\n",
    "        mem_number = int(re.search(\"\\[[0-9]*\\]\", row).group()[1:-1])\n",
    "        number = int(re.search(\"= [0-9]*\", row).group()[2:])\n",
    "\n",
    "        binary = [\"0\"] * 36 + list(bin(number)[2:])\n",
    "        binary_2 = binary.copy()\n",
    "        for i, n in enumerate(mask[::-1]):\n",
    "            if n != \"X\":\n",
    "                binary_2[-i-1] = n\n",
    "\n",
    "        mem[mem_number] = int(\"\".join(binary_2), 2)\n",
    "\n",
    "tot = 0\n",
    "for value in mem.values():\n",
    "    tot += value\n",
    "\n",
    "print(tot)"
   ]
  },
  {
   "cell_type": "code",
   "execution_count": 123,
   "metadata": {},
   "outputs": [],
   "source": [
    "def get_combis(binary):\n",
    "    if \"X\" not in binary:\n",
    "        return [binary]\n",
    "\n",
    "    replace_0 = get_combis(binary.replace(\"X\", \"0\", 1))\n",
    "    replace_1 = get_combis(binary.replace(\"X\", \"1\", 1))\n",
    "\n",
    "    return replace_0 + replace_1"
   ]
  },
  {
   "cell_type": "code",
   "execution_count": 124,
   "metadata": {},
   "outputs": [
    {
     "name": "stdout",
     "output_type": "stream",
     "text": [
      "4574598714592\n"
     ]
    }
   ],
   "source": [
    "mem = {}\n",
    "for row in data:\n",
    "    if \"mask\" in row:\n",
    "        mask = row[7:]\n",
    "    else:\n",
    "        mem_number = int(re.search(\"\\[[0-9]*\\]\", row).group()[1:-1])\n",
    "        number = int(re.search(\"= [0-9]*\", row).group()[2:])\n",
    "\n",
    "        binary = [\"0\"] * 36 + list(bin(mem_number)[2:])\n",
    "        binary_2 = binary.copy()\n",
    "        for i, n in enumerate(mask[::-1]):\n",
    "            if n == \"1\":\n",
    "                binary_2[-i-1] = \"1\"\n",
    "            elif n == \"X\":\n",
    "                binary_2[-i-1] = \"X\"\n",
    "\n",
    "        for combi in get_combis(\"\".join(binary_2)):\n",
    "            mem[int(\"\".join(combi), 2)] = number\n",
    "\n",
    "tot = 0\n",
    "for value in mem.values():\n",
    "    tot += value\n",
    "\n",
    "print(tot)"
   ]
  }
 ],
 "metadata": {
  "kernelspec": {
   "display_name": "Python 3",
   "language": "python",
   "name": "python3"
  },
  "language_info": {
   "codemirror_mode": {
    "name": "ipython",
    "version": 3
   },
   "file_extension": ".py",
   "mimetype": "text/x-python",
   "name": "python",
   "nbconvert_exporter": "python",
   "pygments_lexer": "ipython3",
   "version": "3.8.3"
  }
 },
 "nbformat": 4,
 "nbformat_minor": 4
}
