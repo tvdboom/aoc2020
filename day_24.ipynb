{
 "cells": [
  {
   "cell_type": "code",
   "execution_count": 19,
   "metadata": {},
   "outputs": [],
   "source": [
    "with open(\"input24.txt\", \"r\") as f:\n",
    "    data = f.read().split(\"\\n\")"
   ]
  },
  {
   "cell_type": "code",
   "execution_count": 20,
   "metadata": {},
   "outputs": [],
   "source": [
    "dirs = {\n",
    "    'e': (+1, +1),\n",
    "    'se': (0, +1),\n",
    "    'sw': (-1, 0),\n",
    "    'w': (-1, -1),\n",
    "    'nw': (0, -1),\n",
    "    'ne': (+1, 0),\n",
    "}"
   ]
  },
  {
   "cell_type": "code",
   "execution_count": 21,
   "metadata": {},
   "outputs": [
    {
     "name": "stdout",
     "output_type": "stream",
     "text": [
      "377\n"
     ]
    }
   ],
   "source": [
    "grid = set()\n",
    "for row in data:\n",
    "    x, y = 0, 0\n",
    "    i = 0\n",
    "    while i < len(row):\n",
    "        if row[i] in dirs:\n",
    "            x += dirs[row[i]][0]\n",
    "            y += dirs[row[i]][1]\n",
    "            i += 1\n",
    "        else:\n",
    "            x += dirs[row[i:i+2]][0]\n",
    "            y += dirs[row[i:i+2]][1]\n",
    "            i += 2\n",
    "\n",
    "    if (x, y) in grid:\n",
    "        grid.remove((x, y))\n",
    "    else:\n",
    "        grid.add((x, y))\n",
    "\n",
    "print(len(grid))"
   ]
  },
  {
   "cell_type": "code",
   "execution_count": 22,
   "metadata": {},
   "outputs": [],
   "source": [
    "def get_neighbors(x, y, grid):\n",
    "    neighbors = 0\n",
    "    for d in dirs.values():\n",
    "        if (x + d[0], y + d[1]) in grid:\n",
    "            neighbors += 1\n",
    "\n",
    "    return neighbors"
   ]
  },
  {
   "cell_type": "code",
   "execution_count": 23,
   "metadata": {},
   "outputs": [
    {
     "name": "stdout",
     "output_type": "stream",
     "text": [
      "4231\n"
     ]
    }
   ],
   "source": [
    "grid2 = grid.copy()\n",
    "for day in range(100):\n",
    "    grid_now = grid2.copy()\n",
    "    for x in range(-200, 200):\n",
    "        for y in range(-200, 200):\n",
    "            neighbors = get_neighbors(x, y, grid2)\n",
    "            if (x, y) in grid2:\n",
    "                if (neighbors == 0 or neighbors > 2):\n",
    "                    grid_now.remove((x, y))\n",
    "            elif neighbors == 2:\n",
    "                grid_now.add((x, y))\n",
    "\n",
    "    grid2 = grid_now.copy()\n",
    "\n",
    "print(len(grid2))"
   ]
  }
 ],
 "metadata": {
  "kernelspec": {
   "display_name": "Python 3",
   "language": "python",
   "name": "python3"
  },
  "language_info": {
   "codemirror_mode": {
    "name": "ipython",
    "version": 3
   },
   "file_extension": ".py",
   "mimetype": "text/x-python",
   "name": "python",
   "nbconvert_exporter": "python",
   "pygments_lexer": "ipython3",
   "version": "3.8.3"
  }
 },
 "nbformat": 4,
 "nbformat_minor": 4
}
