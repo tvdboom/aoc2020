{
 "cells": [
  {
   "cell_type": "code",
   "execution_count": 214,
   "metadata": {},
   "outputs": [],
   "source": [
    "with open(\"input11.txt\", \"r\") as f:\n",
    "    data = f.read().split(\"\\n\")"
   ]
  },
  {
   "cell_type": "code",
   "execution_count": 215,
   "metadata": {},
   "outputs": [],
   "source": [
    "old_pos = [[\".\"] * (len(data[0]) + 2)]\n",
    "for row in data:\n",
    "    old_pos.append([\".\"] + [char for char in row] + [\".\"])\n",
    "\n",
    "old_pos.append([\".\"] * (len(data[0]) + 2))"
   ]
  },
  {
   "cell_type": "code",
   "execution_count": 197,
   "metadata": {},
   "outputs": [],
   "source": [
    "def change(i, j, pos):\n",
    "    idx = [\n",
    "        (0, -1),\n",
    "        (0, 1),\n",
    "        (1, -1),\n",
    "        (1, 0),\n",
    "        (1, 1),\n",
    "        (-1, -1),\n",
    "        (-1, 0),\n",
    "        (-1, 1),\n",
    "    ]\n",
    "\n",
    "    state = []\n",
    "    for di, dj in idx:\n",
    "        state.append(pos[i + di][j + dj])\n",
    "\n",
    "    if pos[i][j] == \"L\":\n",
    "        if all([s != \"#\" for s in state]):\n",
    "            return \"#\"\n",
    "        else:\n",
    "            return \"L\"\n",
    "    elif pos[i][j] == \"#\":\n",
    "        if sum([s == \"#\" for s in state]) >= 4:\n",
    "            return \"L\"\n",
    "        else:\n",
    "            return \"#\""
   ]
  },
  {
   "cell_type": "code",
   "execution_count": 198,
   "metadata": {
    "scrolled": true
   },
   "outputs": [
    {
     "name": "stdout",
     "output_type": "stream",
     "text": [
      "2164\n"
     ]
    }
   ],
   "source": [
    "from copy import deepcopy\n",
    "\n",
    "# First step, all change\n",
    "new_pos = [[\"#\" if seat == \"L\" else \".\" for seat in row] for row in old_pos]\n",
    "\n",
    "while new_pos != old_pos:\n",
    "    old_pos = new_pos\n",
    "    new_pos = deepcopy(old_pos)\n",
    "    \n",
    "    for i in range(1, len(data) + 1):\n",
    "        for j in range(1, len(data[0]) + 1):\n",
    "            if old_pos[i][j] != \".\":\n",
    "                new_pos[i][j] = change(i, j, old_pos)\n",
    "\n",
    "print(sum(row.count('#') for row in new_pos))"
   ]
  },
  {
   "cell_type": "code",
   "execution_count": 216,
   "metadata": {},
   "outputs": [],
   "source": [
    "def change_2(i, j, pos):\n",
    "    idx = [\n",
    "        (0, -1),\n",
    "        (0, 1),\n",
    "        (1, -1),\n",
    "        (1, 0),\n",
    "        (1, 1),\n",
    "        (-1, -1),\n",
    "        (-1, 0),\n",
    "        (-1, 1),\n",
    "    ]\n",
    "\n",
    "    state = []\n",
    "    for di, dj in idx:\n",
    "        d1 = i + di\n",
    "        d2 = j + dj\n",
    "        while pos[d1][d2] == \".\" and 0 < d1 < len(data) + 1 and 0 < d2 < len(data[0]) + 1:\n",
    "            d1 += di\n",
    "            d2 += dj\n",
    "\n",
    "        state.append(pos[d1][d2])\n",
    "\n",
    "    if pos[i][j] == \"L\":\n",
    "        if all([s != \"#\" for s in state]):\n",
    "            return \"#\"\n",
    "        else:\n",
    "            return \"L\"\n",
    "    elif pos[i][j] == \"#\":\n",
    "        if sum([s == \"#\" for s in state]) >= 5:\n",
    "            return \"L\"\n",
    "        else:\n",
    "            return \"#\""
   ]
  },
  {
   "cell_type": "code",
   "execution_count": 217,
   "metadata": {},
   "outputs": [
    {
     "name": "stdout",
     "output_type": "stream",
     "text": [
      "1974\n"
     ]
    }
   ],
   "source": [
    "from copy import deepcopy\n",
    "\n",
    "# First step, all change\n",
    "new_pos = [[\"#\" if seat == \"L\" else \".\" for seat in row] for row in old_pos]\n",
    "\n",
    "while new_pos != old_pos:\n",
    "    old_pos = new_pos\n",
    "    new_pos = deepcopy(old_pos)\n",
    "\n",
    "    for i in range(1, len(data) + 1):\n",
    "        for j in range(1, len(data[0]) + 1):\n",
    "            if old_pos[i][j] != \".\":\n",
    "                new_pos[i][j] = change_2(i, j, old_pos)\n",
    "\n",
    "print(sum(row.count('#') for row in new_pos))"
   ]
  }
 ],
 "metadata": {
  "kernelspec": {
   "display_name": "Python 3",
   "language": "python",
   "name": "python3"
  },
  "language_info": {
   "codemirror_mode": {
    "name": "ipython",
    "version": 3
   },
   "file_extension": ".py",
   "mimetype": "text/x-python",
   "name": "python",
   "nbconvert_exporter": "python",
   "pygments_lexer": "ipython3",
   "version": "3.8.3"
  }
 },
 "nbformat": 4,
 "nbformat_minor": 4
}
