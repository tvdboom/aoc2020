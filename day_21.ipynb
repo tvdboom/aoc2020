{
 "cells": [
  {
   "cell_type": "code",
   "execution_count": 44,
   "metadata": {},
   "outputs": [],
   "source": [
    "with open(\"input21.txt\", \"r\") as f:\n",
    "    data = f.read().split(\"\\n\")"
   ]
  },
  {
   "cell_type": "code",
   "execution_count": 45,
   "metadata": {},
   "outputs": [],
   "source": [
    "from collections import defaultdict\n",
    "\n",
    "ingredients = defaultdict(list)\n",
    "allergens = defaultdict(list)\n",
    "for idx, row in enumerate(data):\n",
    "    i, a = row.split(\" (contains \")\n",
    "    for ingredient in i.split(\" \"):\n",
    "        ingredients[ingredient].append(idx)\n",
    "    for allergen in a[:-1].split(\", \"):\n",
    "        allergens[allergen].append(idx)"
   ]
  },
  {
   "cell_type": "code",
   "execution_count": 46,
   "metadata": {},
   "outputs": [
    {
     "name": "stdout",
     "output_type": "stream",
     "text": [
      "2162\n"
     ]
    }
   ],
   "source": [
    "import numpy as np\n",
    "\n",
    "poison = []\n",
    "for ing, idx_1 in ingredients.items():\n",
    "    if any([np.array_equiv(np.intersect1d(idx_1, idx_2), idx_2) for idx_2 in allergens.values()]):\n",
    "        poison.append(ing)\n",
    "\n",
    "total = 0\n",
    "for ing, idx in ingredients.items():\n",
    "    if ing not in poison:\n",
    "        total += len(idx)\n",
    "\n",
    "print(total)"
   ]
  },
  {
   "cell_type": "code",
   "execution_count": 47,
   "metadata": {},
   "outputs": [
    {
     "name": "stdout",
     "output_type": "stream",
     "text": [
      "lmzg,cxk,bsqh,bdvmx,cpbzbx,drbm,cfnt,kqprv\n"
     ]
    }
   ],
   "source": [
    "match = {}\n",
    "while len(match) != len(poison):\n",
    "    for p in [p for p in poison if p not in match.values()]:\n",
    "        appear = []\n",
    "        for allerg, idx in {k: v for k,v in allergens.items() if k not in match}.items():\n",
    "            if all(p in data[i] for i in idx):\n",
    "                appear.append(allerg)\n",
    "\n",
    "        if len(appear) == 1:\n",
    "            match[appear[0]] = p\n",
    "\n",
    "print(\",\".join([match[k] for k in sorted(match)]))"
   ]
  }
 ],
 "metadata": {
  "kernelspec": {
   "display_name": "Python 3",
   "language": "python",
   "name": "python3"
  },
  "language_info": {
   "codemirror_mode": {
    "name": "ipython",
    "version": 3
   },
   "file_extension": ".py",
   "mimetype": "text/x-python",
   "name": "python",
   "nbconvert_exporter": "python",
   "pygments_lexer": "ipython3",
   "version": "3.8.3"
  }
 },
 "nbformat": 4,
 "nbformat_minor": 4
}
