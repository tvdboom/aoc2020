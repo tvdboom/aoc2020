{
 "cells": [
  {
   "cell_type": "code",
   "execution_count": 44,
   "metadata": {},
   "outputs": [],
   "source": [
    "with open(\"input13.txt\", \"r\") as f:\n",
    "    data = f.read().split(\"\\n\")"
   ]
  },
  {
   "cell_type": "code",
   "execution_count": 45,
   "metadata": {},
   "outputs": [
    {
     "data": {
      "text/plain": [
       "['1007153',\n",
       " '29,x,x,x,x,x,x,x,x,x,x,x,x,x,x,x,x,x,x,x,x,x,x,37,x,x,x,x,x,433,x,x,x,x,x,x,x,x,x,x,x,x,13,17,x,x,x,x,19,x,x,x,23,x,x,x,x,x,x,x,977,x,x,x,x,x,x,x,x,x,x,x,x,x,x,x,x,x,x,x,x,x,x,x,x,x,x,x,x,x,x,x,x,x,x,x,x,x,x,x,x,41']"
      ]
     },
     "execution_count": 45,
     "metadata": {},
     "output_type": "execute_result"
    }
   ],
   "source": [
    "data"
   ]
  },
  {
   "cell_type": "code",
   "execution_count": 47,
   "metadata": {},
   "outputs": [
    {
     "name": "stdout",
     "output_type": "stream",
     "text": [
      "2165\n"
     ]
    }
   ],
   "source": [
    "time = int(data[0])\n",
    "\n",
    "leave_times = []\n",
    "for bus in data[1].split(\",\"):\n",
    "    if bus.isdigit():\n",
    "        leave_times.append(int(bus) - (time % int(bus)))\n",
    "\n",
    "bus_to_take = busses[leave_times.index(min(leave_times))]\n",
    "\n",
    "print(bus_to_take * min(leave_times))"
   ]
  },
  {
   "cell_type": "code",
   "execution_count": 57,
   "metadata": {},
   "outputs": [
    {
     "name": "stdout",
     "output_type": "stream",
     "text": [
      "534035653563227\n"
     ]
    }
   ],
   "source": [
    "busses = []\n",
    "for i, bus in enumerate(data[1].split(\",\")):\n",
    "    if bus.isdigit():\n",
    "        busses.append((int(bus), i))\n",
    "\n",
    "t = 0\n",
    "step = 1\n",
    "for bus, idx in sorted(busses):\n",
    "    for steps in range(t, 10000000000000000000000, step):\n",
    "        if (idx + steps) % bus == 0:\n",
    "            t = steps\n",
    "            step *= bus\n",
    "            break\n",
    "\n",
    "print(t)"
   ]
  }
 ],
 "metadata": {
  "kernelspec": {
   "display_name": "Python 3",
   "language": "python",
   "name": "python3"
  },
  "language_info": {
   "codemirror_mode": {
    "name": "ipython",
    "version": 3
   },
   "file_extension": ".py",
   "mimetype": "text/x-python",
   "name": "python",
   "nbconvert_exporter": "python",
   "pygments_lexer": "ipython3",
   "version": "3.8.3"
  }
 },
 "nbformat": 4,
 "nbformat_minor": 4
}
