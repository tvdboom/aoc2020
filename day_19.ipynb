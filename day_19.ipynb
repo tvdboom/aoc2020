{
 "cells": [
  {
   "cell_type": "code",
   "execution_count": 130,
   "metadata": {},
   "outputs": [],
   "source": [
    "with open(\"input19.txt\", \"r\") as f:\n",
    "    data = f.read().split(\"\\n\\n\")"
   ]
  },
  {
   "cell_type": "code",
   "execution_count": 131,
   "metadata": {},
   "outputs": [],
   "source": [
    "rules = data[0].split(\"\\n\")"
   ]
  },
  {
   "cell_type": "code",
   "execution_count": 132,
   "metadata": {},
   "outputs": [],
   "source": [
    "rules = {}\n",
    "for rule in data[0].split(\"\\n\"):\n",
    "    n1, n2 = rule.split(\": \")\n",
    "    rules[n1] = n2"
   ]
  },
  {
   "cell_type": "code",
   "execution_count": 133,
   "metadata": {},
   "outputs": [],
   "source": [
    "messages = data[1].split(\"\\n\")"
   ]
  },
  {
   "cell_type": "code",
   "execution_count": 134,
   "metadata": {},
   "outputs": [],
   "source": [
    "def check_rule(key):\n",
    "    rule = rules[key]\n",
    "\n",
    "    if \"|\" in rule:\n",
    "        n1, n2 = rule.split(\" | \")\n",
    "        content1, content2 = [n for n in n1.split(\" \")], [n for n in n2.split(\" \")]\n",
    "        return f\"({''.join([check_rule(n) for n in content1])}|{''.join([check_rule(n) for n in content2])})\"\n",
    "\n",
    "    else:\n",
    "        content = [n for n in rule.split(\" \")]\n",
    "\n",
    "        if '\"a\"' in content:\n",
    "            return \"a\"\n",
    "        elif '\"b\"' in content:\n",
    "            return \"b\"\n",
    "        else:\n",
    "            return f\"({''.join([check_rule(n) for n in content])})\""
   ]
  },
  {
   "cell_type": "code",
   "execution_count": 135,
   "metadata": {
    "scrolled": false
   },
   "outputs": [
    {
     "name": "stdout",
     "output_type": "stream",
     "text": [
      "291\n"
     ]
    }
   ],
   "source": [
    "import re\n",
    "\n",
    "total = 0\n",
    "for row in messages:\n",
    "    regex = re.compile(check_rule(\"0\"))\n",
    "    match = re.search(regex, row)\n",
    "    try:\n",
    "        if len(match.group()) == len(row):\n",
    "            total += 1\n",
    "    except:\n",
    "        pass\n",
    "\n",
    "print(total)"
   ]
  },
  {
   "cell_type": "code",
   "execution_count": 139,
   "metadata": {},
   "outputs": [],
   "source": [
    "rules[\"8\"] = \"42 | 42 8\"\n",
    "rules[\"11\"] = \"42 31 | 42 11 31\""
   ]
  },
  {
   "cell_type": "code",
   "execution_count": 164,
   "metadata": {},
   "outputs": [],
   "source": [
    "import sys\n",
    "sys.setrecursionlimit(5000)"
   ]
  },
  {
   "cell_type": "code",
   "execution_count": 165,
   "metadata": {},
   "outputs": [],
   "source": [
    "def check_rule(key, rec):\n",
    "    rec += 1\n",
    "    if rec >= 200:  # Assume recursion stuck at infinite loop\n",
    "        return \"\"\n",
    "\n",
    "    rule = rules[key]\n",
    "\n",
    "    if \"|\" in rule:\n",
    "        n1, n2 = rule.split(\" | \")\n",
    "        content1, content2 = [n for n in n1.split(\" \")], [n for n in n2.split(\" \")]\n",
    "        return f\"({''.join([check_rule(n, rec) for n in content1])}|{''.join([check_rule(n, rec) for n in content2])})\"\n",
    "\n",
    "    else:\n",
    "        content = [n for n in rule.split(\" \")]\n",
    "\n",
    "        if '\"a\"' in content:\n",
    "            return \"a\"\n",
    "        elif '\"b\"' in content:\n",
    "            return \"b\"\n",
    "        else:\n",
    "            return f\"({''.join([check_rule(n, rec) for n in content])})\""
   ]
  },
  {
   "cell_type": "code",
   "execution_count": 166,
   "metadata": {},
   "outputs": [
    {
     "name": "stdout",
     "output_type": "stream",
     "text": [
      "409\n"
     ]
    }
   ],
   "source": [
    "total = 0\n",
    "for row in messages:\n",
    "    regex = re.compile(check_rule(\"0\", 0))\n",
    "    match = re.search(regex, row)\n",
    "    try:\n",
    "        if len(match.group()) == len(row):\n",
    "            total += 1\n",
    "    except:\n",
    "        pass\n",
    "\n",
    "print(total)"
   ]
  }
 ],
 "metadata": {
  "kernelspec": {
   "display_name": "Python 3",
   "language": "python",
   "name": "python3"
  },
  "language_info": {
   "codemirror_mode": {
    "name": "ipython",
    "version": 3
   },
   "file_extension": ".py",
   "mimetype": "text/x-python",
   "name": "python",
   "nbconvert_exporter": "python",
   "pygments_lexer": "ipython3",
   "version": "3.8.3"
  }
 },
 "nbformat": 4,
 "nbformat_minor": 4
}
