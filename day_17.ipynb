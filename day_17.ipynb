{
 "cells": [
  {
   "cell_type": "code",
   "execution_count": 58,
   "metadata": {},
   "outputs": [],
   "source": [
    "with open(\"input17.txt\", \"r\") as f:\n",
    "    data = f.read().split(\"\\n\")"
   ]
  },
  {
   "cell_type": "code",
   "execution_count": 59,
   "metadata": {},
   "outputs": [],
   "source": [
    "space = []\n",
    "for y, row in enumerate(data):\n",
    "    for x, elem in enumerate(row):\n",
    "        if elem == \"#\":\n",
    "            space.append((x, y, 0))"
   ]
  },
  {
   "cell_type": "code",
   "execution_count": 60,
   "metadata": {},
   "outputs": [
    {
     "data": {
      "text/plain": [
       "[(0, 0, 0),\n",
       " (2, 0, 0),\n",
       " (3, 0, 0),\n",
       " (1, 1, 0),\n",
       " (3, 1, 0),\n",
       " (5, 1, 0),\n",
       " (6, 1, 0),\n",
       " (0, 2, 0),\n",
       " (1, 2, 0),\n",
       " (2, 2, 0),\n",
       " (4, 3, 0),\n",
       " (5, 3, 0),\n",
       " (7, 3, 0),\n",
       " (0, 4, 0),\n",
       " (5, 4, 0),\n",
       " (6, 4, 0),\n",
       " (7, 4, 0),\n",
       " (1, 5, 0),\n",
       " (3, 5, 0),\n",
       " (5, 5, 0),\n",
       " (1, 6, 0),\n",
       " (2, 6, 0),\n",
       " (6, 6, 0),\n",
       " (7, 6, 0),\n",
       " (0, 7, 0),\n",
       " (3, 7, 0),\n",
       " (5, 7, 0),\n",
       " (6, 7, 0),\n",
       " (7, 7, 0)]"
      ]
     },
     "execution_count": 60,
     "metadata": {},
     "output_type": "execute_result"
    }
   ],
   "source": [
    "space"
   ]
  },
  {
   "cell_type": "code",
   "execution_count": 61,
   "metadata": {},
   "outputs": [],
   "source": [
    "def get_neighbors(x, y, z):\n",
    "    n = 0\n",
    "    for z_2 in range(z-1, z+2):\n",
    "        for y_2 in range(y-1, y+2):\n",
    "            for x_2 in range(x-1, x+2):\n",
    "                if (x_2, y_2, z_2) in space and (x_2, y_2, z_2) != (x, y, z):\n",
    "                    n += 1\n",
    "\n",
    "    return n"
   ]
  },
  {
   "cell_type": "code",
   "execution_count": 62,
   "metadata": {},
   "outputs": [
    {
     "name": "stdout",
     "output_type": "stream",
     "text": [
      "230\n"
     ]
    }
   ],
   "source": [
    "for cycle in range(1, 7):\n",
    "    space_now = []\n",
    "\n",
    "    for z in range(-cycle, 1 + cycle):\n",
    "        for y in range(-cycle, 9 + cycle):\n",
    "            for x in range(-cycle, 9 + cycle):\n",
    "                neighbors = get_neighbors(x, y, z)\n",
    "                if (x, y, z) in space:\n",
    "                    if neighbors in (2, 3):\n",
    "                        space_now.append((x, y, z))\n",
    "                elif neighbors == 3:\n",
    "                    space_now.append((x, y, z))\n",
    "\n",
    "    space = space_now.copy()\n",
    "\n",
    "print(len(space))"
   ]
  },
  {
   "cell_type": "code",
   "execution_count": 69,
   "metadata": {},
   "outputs": [],
   "source": [
    "def get_neighbors2(x, y, z, w):\n",
    "    n = 0\n",
    "    for w_2 in range(w-1, w+2):\n",
    "        for z_2 in range(z-1, z+2):\n",
    "            for y_2 in range(y-1, y+2):\n",
    "                for x_2 in range(x-1, x+2):\n",
    "                    if (x_2, y_2, z_2, w_2) in space and (x_2, y_2, z_2, w_2) != (x, y, z, w):\n",
    "                        n += 1\n",
    "\n",
    "    return n"
   ]
  },
  {
   "cell_type": "code",
   "execution_count": 72,
   "metadata": {},
   "outputs": [],
   "source": [
    "space = set()\n",
    "for y, row in enumerate(data):\n",
    "    for x, elem in enumerate(row):\n",
    "        if elem == \"#\":\n",
    "            space.add((x, y, 0, 0))"
   ]
  },
  {
   "cell_type": "code",
   "execution_count": 73,
   "metadata": {},
   "outputs": [
    {
     "name": "stdout",
     "output_type": "stream",
     "text": [
      "1\n",
      "2\n",
      "3\n",
      "4\n",
      "5\n",
      "6\n",
      "1600\n"
     ]
    }
   ],
   "source": [
    "for cycle in range(1, 7):\n",
    "    print(cycle)\n",
    "    space_now = set()\n",
    "\n",
    "    for w in range(-cycle, 1 + cycle):\n",
    "        for z in range(-cycle, 1 + cycle):\n",
    "            for y in range(-cycle, 9 + cycle):\n",
    "                for x in range(-cycle, 9 + cycle):\n",
    "                    neighbors = get_neighbors2(x, y, z, w)\n",
    "                    if (x, y, z, w) in space:\n",
    "                        if neighbors in (2, 3):\n",
    "                            space_now.add((x, y, z, w))\n",
    "                    elif neighbors == 3:\n",
    "                        space_now.add((x, y, z, w))\n",
    "\n",
    "    space = space_now.copy()\n",
    "\n",
    "print(len(space))"
   ]
  }
 ],
 "metadata": {
  "kernelspec": {
   "display_name": "Python 3",
   "language": "python",
   "name": "python3"
  },
  "language_info": {
   "codemirror_mode": {
    "name": "ipython",
    "version": 3
   },
   "file_extension": ".py",
   "mimetype": "text/x-python",
   "name": "python",
   "nbconvert_exporter": "python",
   "pygments_lexer": "ipython3",
   "version": "3.8.3"
  }
 },
 "nbformat": 4,
 "nbformat_minor": 4
}
