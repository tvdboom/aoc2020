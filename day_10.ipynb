{
 "cells": [
  {
   "cell_type": "code",
   "execution_count": 121,
   "metadata": {},
   "outputs": [],
   "source": [
    "with open(\"input10.txt\", \"r\") as f:\n",
    "    data = f.read().split(\"\\n\")"
   ]
  },
  {
   "cell_type": "code",
   "execution_count": 122,
   "metadata": {},
   "outputs": [],
   "source": [
    "data = [int(d) for d in data]"
   ]
  },
  {
   "cell_type": "code",
   "execution_count": 123,
   "metadata": {},
   "outputs": [],
   "source": [
    "def get_jolt(diff):\n",
    "    for i in data:\n",
    "        if i - jolt == diff:\n",
    "            return i"
   ]
  },
  {
   "cell_type": "code",
   "execution_count": 124,
   "metadata": {
    "scrolled": false
   },
   "outputs": [],
   "source": [
    "jolt = 0\n",
    "diffs = []\n",
    "while jolt <= max(data):\n",
    "    for diff in range(1, 4):\n",
    "        n = get_jolt(diff)\n",
    "        if n:\n",
    "            diffs.append(diff)\n",
    "            jolt = n\n",
    "            break\n",
    "\n",
    "        if jolt == max(data):\n",
    "            # To own adapter\n",
    "            jolt += 3\n",
    "            diffs.append(3)\n",
    "            break"
   ]
  },
  {
   "cell_type": "code",
   "execution_count": 125,
   "metadata": {
    "scrolled": false
   },
   "outputs": [
    {
     "name": "stdout",
     "output_type": "stream",
     "text": [
      "1904\n"
     ]
    }
   ],
   "source": [
    "print(diffs.count(1) * diffs.count(3))"
   ]
  },
  {
   "cell_type": "code",
   "execution_count": 126,
   "metadata": {},
   "outputs": [],
   "source": [
    "data = [0] + sorted(data)\n",
    "\n",
    "combis = {}  # Number of combis per index\n",
    "for i in range(153):\n",
    "    combis[i] = 0\n",
    "\n",
    "def get_combis():\n",
    "    combis[data[-1] + 3] = 1  # Add own adapter\n",
    "\n",
    "    for i in data[::-1]:\n",
    "        combis[i] = combis[i+3] + combis[i+2] + combis[i+1]\n",
    "\n",
    "    return combis[min(data)]"
   ]
  },
  {
   "cell_type": "code",
   "execution_count": 127,
   "metadata": {},
   "outputs": [
    {
     "data": {
      "text/plain": [
       "10578455953408"
      ]
     },
     "execution_count": 127,
     "metadata": {},
     "output_type": "execute_result"
    }
   ],
   "source": [
    "get_combis()"
   ]
  }
 ],
 "metadata": {
  "kernelspec": {
   "display_name": "Python 3",
   "language": "python",
   "name": "python3"
  },
  "language_info": {
   "codemirror_mode": {
    "name": "ipython",
    "version": 3
   },
   "file_extension": ".py",
   "mimetype": "text/x-python",
   "name": "python",
   "nbconvert_exporter": "python",
   "pygments_lexer": "ipython3",
   "version": "3.8.3"
  }
 },
 "nbformat": 4,
 "nbformat_minor": 4
}
