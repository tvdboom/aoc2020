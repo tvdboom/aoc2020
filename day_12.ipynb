{
 "cells": [
  {
   "cell_type": "code",
   "execution_count": 26,
   "metadata": {},
   "outputs": [],
   "source": [
    "with open(\"input12.txt\", \"r\") as f:\n",
    "    data = f.read().split(\"\\n\")"
   ]
  },
  {
   "cell_type": "code",
   "execution_count": 27,
   "metadata": {},
   "outputs": [
    {
     "name": "stdout",
     "output_type": "stream",
     "text": [
      "1441\n"
     ]
    }
   ],
   "source": [
    "faces = [\"N\", \"E\", \"S\", \"W\"]\n",
    "face = 1  # Start east\n",
    "d = [0] * 4\n",
    "\n",
    "for row in data:\n",
    "    face_now = row[0]\n",
    "    number = int(row[1:])\n",
    "    if face_now == \"L\":\n",
    "        face = (face - number//90) % 4\n",
    "    elif face_now == \"R\":\n",
    "        face = (face + number//90) % 4\n",
    "    elif face_now == \"F\":\n",
    "        d[face] += number\n",
    "    else:\n",
    "        d[faces.index(face_now)] += number\n",
    "\n",
    "print(abs(d[0] - d[2]) + abs(d[1] - d[3]))"
   ]
  },
  {
   "cell_type": "code",
   "execution_count": 47,
   "metadata": {},
   "outputs": [
    {
     "name": "stdout",
     "output_type": "stream",
     "text": [
      "61616\n"
     ]
    }
   ],
   "source": [
    "faces = [\"N\", \"E\", \"S\", \"W\"]\n",
    "d_ship = [0] * 4\n",
    "d_wp = [1, 10, 0, 0]\n",
    "\n",
    "for row in data:\n",
    "    face_now = row[0]\n",
    "    number = int(row[1:])\n",
    "    if face_now == \"L\":\n",
    "        d_wp = [d_wp[(i + number//90) % 4] for i in range(4)]\n",
    "    elif face_now == \"R\":\n",
    "        d_wp = [d_wp[(i - number//90) % 4] for i in range(4)]\n",
    "    elif face_now == \"F\":\n",
    "        for i, f in enumerate(d_wp):\n",
    "            d_ship[i] += number * f\n",
    "    else:\n",
    "        d_wp[faces.index(face_now)] += number\n",
    "\n",
    "print(abs(d_ship[0] - d_ship[2]) + abs(d_ship[1] - d_ship[3]))    "
   ]
  }
 ],
 "metadata": {
  "kernelspec": {
   "display_name": "Python 3",
   "language": "python",
   "name": "python3"
  },
  "language_info": {
   "codemirror_mode": {
    "name": "ipython",
    "version": 3
   },
   "file_extension": ".py",
   "mimetype": "text/x-python",
   "name": "python",
   "nbconvert_exporter": "python",
   "pygments_lexer": "ipython3",
   "version": "3.8.3"
  }
 },
 "nbformat": 4,
 "nbformat_minor": 4
}
