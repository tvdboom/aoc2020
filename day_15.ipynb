{
 "cells": [
  {
   "cell_type": "code",
   "execution_count": 63,
   "metadata": {},
   "outputs": [],
   "source": [
    "data = [0, 12, 6, 13, 20, 1, 17]"
   ]
  },
  {
   "cell_type": "code",
   "execution_count": 64,
   "metadata": {},
   "outputs": [
    {
     "name": "stdout",
     "output_type": "stream",
     "text": [
      "620\n"
     ]
    }
   ],
   "source": [
    "lst = data.copy()\n",
    "for _ in range(7, 2020):\n",
    "    if lst[-1] not in lst[:-1]:\n",
    "        lst.append(0)\n",
    "    else:\n",
    "        idx_1 = len(lst)\n",
    "        idx_2 = lst[:-1][::-1].index(lst[-1]) + 1  # +1 because turns start at 1\n",
    "        lst.append(idx_1 - (len(lst) - idx_2))\n",
    "\n",
    "print(lst[-1])"
   ]
  },
  {
   "cell_type": "code",
   "execution_count": 66,
   "metadata": {},
   "outputs": [
    {
     "name": "stdout",
     "output_type": "stream",
     "text": [
      "110871\n"
     ]
    }
   ],
   "source": [
    "dct = {k: v+1 for v, k in enumerate(data)}\n",
    "last = 17\n",
    "\n",
    "for n in range(len(data), 30000000):\n",
    "    if dct.get(last):\n",
    "        now = n - dct[last]\n",
    "    else:\n",
    "        now = 0\n",
    "\n",
    "    dct[last] = n\n",
    "    last = now\n",
    "\n",
    "print(last)"
   ]
  }
 ],
 "metadata": {
  "kernelspec": {
   "display_name": "Python 3",
   "language": "python",
   "name": "python3"
  },
  "language_info": {
   "codemirror_mode": {
    "name": "ipython",
    "version": 3
   },
   "file_extension": ".py",
   "mimetype": "text/x-python",
   "name": "python",
   "nbconvert_exporter": "python",
   "pygments_lexer": "ipython3",
   "version": "3.8.3"
  }
 },
 "nbformat": 4,
 "nbformat_minor": 4
}
