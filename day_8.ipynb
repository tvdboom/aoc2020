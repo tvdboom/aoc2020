{
 "cells": [
  {
   "cell_type": "code",
   "execution_count": 34,
   "metadata": {},
   "outputs": [],
   "source": [
    "import re"
   ]
  },
  {
   "cell_type": "code",
   "execution_count": 35,
   "metadata": {},
   "outputs": [],
   "source": [
    "with open(\"input8.txt\", \"r\") as f:\n",
    "    data = f.read().split(\"\\n\")"
   ]
  },
  {
   "cell_type": "code",
   "execution_count": 36,
   "metadata": {},
   "outputs": [
    {
     "name": "stdout",
     "output_type": "stream",
     "text": [
      "1200\n"
     ]
    }
   ],
   "source": [
    "visited = []\n",
    "acc = 0\n",
    "i = 0\n",
    "while i < len(data):\n",
    "    if i in visited:\n",
    "        print(acc)\n",
    "        break\n",
    "\n",
    "    n = int(re.search(\"-?\\d+\", data[i]).group())\n",
    "    visited.append(i)\n",
    "\n",
    "    if \"acc\" in data[i]:\n",
    "        acc += n\n",
    "\n",
    "    if \"jmp\" in data[i]:\n",
    "        i += n - 1\n",
    "        \n",
    "    i += 1"
   ]
  },
  {
   "cell_type": "code",
   "execution_count": 38,
   "metadata": {
    "scrolled": false
   },
   "outputs": [
    {
     "name": "stdout",
     "output_type": "stream",
     "text": [
      "final 1023\n"
     ]
    }
   ],
   "source": [
    "for change in range(len(data)):\n",
    "    data2 = data.copy()\n",
    "    counter = 0\n",
    "    acc = 0\n",
    "    i = 0\n",
    "    if \"jmp\" in data2[change]:\n",
    "        data2[change] = data2[change].replace(\"jmp\", \"nop\")\n",
    "    elif \"nop\" in data[change]:\n",
    "        data2[change] = data2[change].replace(\"nop\", \"jmp\")\n",
    "\n",
    "    while i <= len(data2):\n",
    "        counter += 1\n",
    "        if i == len(data2):\n",
    "            print(acc)\n",
    "            break\n",
    "\n",
    "        n = int(re.search(\"-?\\d+\", data2[i]).group())\n",
    "\n",
    "        if \"acc\" in data2[i]:\n",
    "            acc += n\n",
    "\n",
    "        if \"jmp\" in data2[i]:\n",
    "            i += n - 1\n",
    "\n",
    "        if counter == 5000:\n",
    "            break\n",
    "\n",
    "        i += 1"
   ]
  }
 ],
 "metadata": {
  "kernelspec": {
   "display_name": "Python 3",
   "language": "python",
   "name": "python3"
  },
  "language_info": {
   "codemirror_mode": {
    "name": "ipython",
    "version": 3
   },
   "file_extension": ".py",
   "mimetype": "text/x-python",
   "name": "python",
   "nbconvert_exporter": "python",
   "pygments_lexer": "ipython3",
   "version": "3.8.3"
  }
 },
 "nbformat": 4,
 "nbformat_minor": 4
}
