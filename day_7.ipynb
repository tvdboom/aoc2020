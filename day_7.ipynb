{
 "cells": [
  {
   "cell_type": "code",
   "execution_count": 2,
   "metadata": {},
   "outputs": [],
   "source": [
    "with open(\"input7.txt\", \"r\") as f:\n",
    "    data = f.read().split(\"\\n\")"
   ]
  },
  {
   "cell_type": "code",
   "execution_count": 72,
   "metadata": {},
   "outputs": [],
   "source": [
    "def get_bags(content):\n",
    "    if \"no other bags\" in content:\n",
    "        return []\n",
    "\n",
    "    bags = content.split(\",\")\n",
    "\n",
    "    for i, b in enumerate(bags):\n",
    "        bags[i] = b[3:]\n",
    "        if bags[i].endswith(\".\"):\n",
    "            bags[i] = bags[i][:-1]\n",
    "        if bags[i].endswith(\"s\"):\n",
    "            bags[i] = bags[i][:-1]\n",
    "\n",
    "    return bags"
   ]
  },
  {
   "cell_type": "code",
   "execution_count": 73,
   "metadata": {},
   "outputs": [],
   "source": [
    "bags = {}\n",
    "for row in data:\n",
    "    bag, content = row.split(\" contain\")\n",
    "    bags[bag[:-1]] = get_bags(content)"
   ]
  },
  {
   "cell_type": "code",
   "execution_count": 80,
   "metadata": {},
   "outputs": [],
   "source": [
    "def has_gold(content):\n",
    "    if \"shiny gold bag\" in content:\n",
    "        return True\n",
    "\n",
    "    for b in content:\n",
    "        if b in bags:\n",
    "            if has_gold(bags[b]):\n",
    "                return True\n",
    "\n",
    "    return False"
   ]
  },
  {
   "cell_type": "code",
   "execution_count": 82,
   "metadata": {
    "scrolled": false
   },
   "outputs": [
    {
     "name": "stdout",
     "output_type": "stream",
     "text": [
      "372\n"
     ]
    }
   ],
   "source": [
    "total = []\n",
    "for row in data:\n",
    "    bag, content = row.split(\" contain\")\n",
    "\n",
    "    if has_gold(get_bags(content)):\n",
    "        total.append(bag)\n",
    "\n",
    "print(len(set(total)))"
   ]
  },
  {
   "cell_type": "code",
   "execution_count": 99,
   "metadata": {},
   "outputs": [],
   "source": [
    "def get_number(name):\n",
    "    for row in data:\n",
    "        bag, content = row.split(\" contain\")\n",
    "\n",
    "        if name == bag[:-1]:\n",
    "            if \"no other bags\" in content:\n",
    "                return 0\n",
    "\n",
    "            bags = content.split(\",\")\n",
    "\n",
    "            n = 0\n",
    "            for i, b in enumerate(bags):\n",
    "                bags[i] = b[3:]\n",
    "                if bags[i].endswith(\".\"):\n",
    "                    bags[i] = bags[i][:-1]\n",
    "                if bags[i].endswith(\"s\"):\n",
    "                    bags[i] = bags[i][:-1]\n",
    "\n",
    "                n += int(b[1])\n",
    "                n += int(b[1]) * get_number(bags[i])\n",
    "\n",
    "            return n"
   ]
  },
  {
   "cell_type": "code",
   "execution_count": 100,
   "metadata": {},
   "outputs": [
    {
     "data": {
      "text/plain": [
       "8015"
      ]
     },
     "execution_count": 100,
     "metadata": {},
     "output_type": "execute_result"
    }
   ],
   "source": [
    "get_number(\"shiny gold bag\")"
   ]
  }
 ],
 "metadata": {
  "kernelspec": {
   "display_name": "Python 3",
   "language": "python",
   "name": "python3"
  },
  "language_info": {
   "codemirror_mode": {
    "name": "ipython",
    "version": 3
   },
   "file_extension": ".py",
   "mimetype": "text/x-python",
   "name": "python",
   "nbconvert_exporter": "python",
   "pygments_lexer": "ipython3",
   "version": "3.8.5"
  }
 },
 "nbformat": 4,
 "nbformat_minor": 4
}
